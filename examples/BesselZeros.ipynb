{
 "cells": [
  {
   "cell_type": "markdown",
   "metadata": {},
   "source": [
    "## Zeros of Bessel functions\n",
    "Let $j_{\\nu,m}$ denote the $m$th zero of the Bessel function $J_\\nu(z)$.\n",
    "Asymptotically it holds\n",
    "\n",
    "$$\\mathop{j_{\\nu,m}}\\nolimits\\nolimits\\sim a-\\frac{\\mu-1}{8a}\n",
    "-\\frac{4(\\mu-1)(7\\mu-31)}{3(8a)^{3}}-\\frac{32(\\mu-1)(83\\mu^{2}-982\\mu+3779\n",
    ")}{15(8a)^{5}}-\\frac{64(\\mu-1)(6949\\mu^{3}-1\\;53855\\mu^{2}+1585743\\mu-6277\n",
    "237)}{105(8a)^{7}}-\\cdots$$\n",
    "\n",
    "for $m\\to\\infty$ where $a=(m+\\frac{1}{2}\\nu-\\frac{1}{4})\\pi$ and $\\mu=4\\nu^2$, cf.\n",
    "http://dlmf.nist.gov/10.21#vi. \n",
    "\n",
    "The following function computes this approximation for $j_{\\nu,m}$:"
   ]
  },
  {
   "cell_type": "code",
   "execution_count": null,
   "metadata": {},
   "outputs": [],
   "source": [
    "function besselj_zero_approx1(ν::Integer, m::Integer)\n",
    "    μ = 4.0*ν^2\n",
    "    a = (m+ν/2-1/4)*π\n",
    "    a8 = 1/(8a)\n",
    "    a82 = a8^2\n",
    "    j = (a -(μ-1)*a8*(1 + a82*(4*(7μ-31)/3 +a82*( 32*(83*μ^2-982*μ+3779)/15 +\n",
    "         a82*(64*(6949*μ^3-153855*μ^2+1585743*μ-6277237)/105))))\n",
    "        )\n",
    "end"
   ]
  },
  {
   "cell_type": "markdown",
   "metadata": {},
   "source": [
    "Similarly, let $j_{\\nu,m}'$ denote the $m$th zero of the derivative $J_\\nu'(z)$.\n",
    "Asymptotically it holds\n",
    "\n",
    "$$\\mathop{j_{\\nu,m}}\\nolimits'\\sim b-\\frac{\\mu+%\n",
    "3}{8b}-\\frac{4(7\\mu^{2}+82\\mu-9)}{3(8b)^{3}}-\\frac{32(83\\mu^{3}+2075\\mu^{2}-30%\n",
    "39\\mu+3537)}{15(8b)^{5}}-\\frac{64(6949\\mu^{4}+2\\;96492\\mu^{3}-12\\;48002\\mu^{2}%\n",
    "+74\\;14380\\mu-58\\;53627)}{105(8b)^{7}}-\\cdots,$$\n",
    "\n",
    "for $m\\to\\infty$ where $b=(m+\\frac{1}{2}\\nu-\\frac{3}{4})\\pi$ and $\\mu=4\\nu^2$, cf.\n",
    "http://dlmf.nist.gov/10.21#vi.  \n",
    "\n",
    "The following function computes this approximation for $j_{\\nu,m}'$:"
   ]
  },
  {
   "cell_type": "code",
   "execution_count": null,
   "metadata": {},
   "outputs": [],
   "source": [
    "function besseljprime_zero_approx1(ν::Integer, m::Integer)\n",
    "    #if (ν==0 && m==1)\n",
    "    #    return 0.0\n",
    "    #end\n",
    "    if ν==0\n",
    "        m += 1\n",
    "    end\n",
    "    μ = 4*ν^2\n",
    "    b = (m+ν/2-3/4)*π\n",
    "    b8 = 1/(8*b)\n",
    "    b82 = b8^2\n",
    "    j = (b - b8*(μ+3 + b82*(4*(7*μ^2+82*μ-9)/3 +b82*(32*(83*μ^3+2075*μ^2-3039*μ+3537)/15 + \n",
    "             b82*(64*(6949*μ^4+296492*μ^3-1248002*μ^2+7414380*μ-5853627)/105)))))\n",
    "end"
   ]
  },
  {
   "cell_type": "markdown",
   "metadata": {},
   "source": [
    "The above approximations for $j_{\\nu,m}$ and $j_{\\nu,m}'$ are only useful for\n",
    "small $\\nu$. For larger $\\nu$ we obtain approximations with a method described in\n",
    "\n",
    "N.M Temme, An algorithm with ALGOL 60 program for the computation of the zeros of ordinary bessel functions and those of their derivatives, J.Comp.Phys. 32, 270-279 (1979)"
   ]
  },
  {
   "cell_type": "markdown",
   "metadata": {},
   "source": [
    "To calculate an approximation of $j_{\\nu,m}$ with this method we need an approximation for the $m$th negative zero $a_m$ of the Airy function $\\mathrm{Ai}(z)$, cf.\n",
    "http://dlmf.nist.gov/9.9#E6:\n",
    "$$\\mathop{a_{k}}\\nolimits=-T\\left(\\tfrac{3}{8}\\pi(4k-1)\\right)$$\n",
    "$$T(t)\\sim t^{2/3}\\left(1+\\frac{5}{48}t^{-2}-\\frac{5}{36}t^{-4}+\\frac{77125}{829%\n",
    "44}t^{-6}-\\frac{1080\\;56875}{69\\;67296}t^{-8}+\\frac{16\\;23755\\;96875}{3344\\;30%\n",
    "208}t^{-10}-\\cdots\\right),$$\n",
    "\n",
    "The following function computes this approximation for $a_m$:"
   ]
  },
  {
   "cell_type": "code",
   "execution_count": null,
   "metadata": {},
   "outputs": [],
   "source": [
    "function airy_zero_approx(m::Integer)\n",
    "    if m<=10\n",
    "        z =[-2.338107410459767,\n",
    "            -4.087949444130970,\n",
    "            -5.520559828095552,\n",
    "            -6.786708090071759,\n",
    "            -7.944133587120853,\n",
    "            -9.022650853340980,\n",
    "           -10.04017434155809,\n",
    "           -11.00852430373326,\n",
    "           -11.93601556323626,\n",
    "           -12.82877675286576][m]\n",
    "    else    \n",
    "        t = 3/8*π*(4*m-1)\n",
    "        t2 = t^(-2)\n",
    "        z = -t^(2/3)*(1+t2*(5/48+t2*(-5/36+t2*(77125/82944+t2*(\n",
    "            -108056875/6967296+ t2*162375596875/334430208)))))\n",
    "    end   \n",
    "    z\n",
    "end"
   ]
  },
  {
   "cell_type": "markdown",
   "metadata": {},
   "source": [
    "Similarly, to calculate an approximation of $j_{\\nu,m}'$  we need an approximation for the $m$th negative zero $a_m'$ of the derivative $\\mathrm{Ai}'(z)$, cf.\n",
    "http://dlmf.nist.gov/9.9#E8:\n",
    "$$\\mathop{a'_{k}}\\nolimits=-U\\left(\\tfrac{3}{8}\\pi(4k-3)\\right),$$\n",
    "$$U(t)\\sim t^{2/3}\\left(1-\\frac{7}{48}t^{-2}+\\frac{35}{288}t^{-4}-\\frac{1\\;81223%\n",
    "}{2\\;07360}t^{-6}+\\frac{186\\;83371}{12\\;44160}t^{-8}-\\frac{9\\;11458\\;84361}{19%\n",
    "11\\;02976}t^{-10}+\\cdots\\right),$$\n",
    "\n",
    "The following function computes this approximation for $a_m'$:"
   ]
  },
  {
   "cell_type": "code",
   "execution_count": null,
   "metadata": {},
   "outputs": [],
   "source": [
    "function airyprime_zero_approx(m::Integer)\n",
    "    if m<=10\n",
    "        z = [-1.0187929716474710890,\n",
    "             -3.2481975821798365379,\n",
    "             -4.8200992111787356394,\n",
    "             -6.1633073556394865476,\n",
    "             -7.3721772550477701771,\n",
    "             -8.4884867340197221329,\n",
    "             -9.5354490524335474707,\n",
    "            -10.527660396957407282,\n",
    "            -11.475056633480245295,\n",
    "            -12.384788371845747325][m]\n",
    "    else    \n",
    "        t = 3/8*π*(4*m-3)\n",
    "        t2 = t^(-2)\n",
    "        z = -t^(2/3)*(1+t2*(-7/48+t2*(35/288+t2*(-181223/207360+t2*(\n",
    "            18683371/1244160 - t2*9114588436/191102976)))))\n",
    "    end   \n",
    "    z\n",
    "end"
   ]
  },
  {
   "cell_type": "markdown",
   "metadata": {},
   "source": [
    "The following function implements the method form the above reference for the calculation of an approximation of $j_{\\nu,m}$ or $j_{\\nu,m}'$ valid for small $\\nu$:"
   ]
  },
  {
   "cell_type": "code",
   "execution_count": null,
   "metadata": {},
   "outputs": [],
   "source": [
    "function besselj_zero_approx2(ν::Integer, m::Integer; prime::Bool=false)\n",
    "    if prime \n",
    "        ζ = ν^(-2/3)*airyprime_zero_approx(m)\n",
    "    else\n",
    "         ζ = ν^(-2/3)*airy_zero_approx(m)\n",
    "    end\n",
    "    y = 2/3*(-ζ)^(3/2)\n",
    "    if y>100000\n",
    "        x = π/2\n",
    "    elseif y<1\n",
    "        p = (3*y)^(1/3)\n",
    "        p2 = p^2\n",
    "        x = p*(1+p2*(-2/15+p2*(3/175+p2*(-2/1575))))\n",
    "    else\n",
    "        p = 1/(y+π/2)\n",
    "        p2 = p^2\n",
    "        x = π/2 - p*(1+p2*(2/3+p2*(13/15+p2*(146/105+p2*(781/315+p2*16328/3465)))))        \n",
    "    end\n",
    "    x2 = (y+x)^2\n",
    "    r = (x-atan(x+y))/x2\n",
    "    x = x - (1+x2)*r*(1+r/(x+y))\n",
    "\n",
    "    z = 1/cos(x)\n",
    "    h = sqrt(ζ*(1-z^2))\n",
    "    if prime\n",
    "        g1 = z/ζ*h*(7/(48*ζ) + h*(7/(z^2-1)+9\n",
    "        )/24)\n",
    "        j = ν*z + g1/ν\n",
    "    else\n",
    "        f1 = -z/ζ*h*(5/(48*ζ) + h*(5/(z^2-1)+3)/24)\n",
    "        j = ν*z + f1/ν\n",
    "    end\n",
    "    j\n",
    "end"
   ]
  },
  {
   "cell_type": "markdown",
   "metadata": {},
   "source": [
    "The following function calculates an approximations for $j_{\\nu,m}$  valid for all $\\nu$ and $m$: "
   ]
  },
  {
   "cell_type": "code",
   "execution_count": null,
   "metadata": {},
   "outputs": [],
   "source": [
    "function besselj_zero_approx(ν::Integer, m::Integer)\n",
    "  if m>=ν\n",
    "     j = besselj_zero_approx1(ν, m)\n",
    "  else\n",
    "     j = besselj_zero_approx2(ν, m)\n",
    "  end      \n",
    "  j\n",
    "end"
   ]
  },
  {
   "cell_type": "markdown",
   "metadata": {},
   "source": [
    "Similarly, the following function calculates an approximations for $j_{\\nu,m}'$  valid for all $\\nu$ and $m$: "
   ]
  },
  {
   "cell_type": "code",
   "execution_count": null,
   "metadata": {},
   "outputs": [],
   "source": [
    "function besseljprime_zero_approx(ν::Integer, m::Integer)\n",
    "  if m>=ν\n",
    "        j = besseljprime_zero_approx1(ν, m)\n",
    "  else\n",
    "        j = besselj_zero_approx2(ν, m, prime=true)\n",
    "  end      \n",
    "  j\n",
    "end"
   ]
  },
  {
   "cell_type": "markdown",
   "metadata": {},
   "source": [
    "Starting from an approximation for a zero of $J_\\nu(z)$ the following function\n",
    "improves this approximation iteratively using Newton's method.\n",
    "For the derivative of $J_\\nu(z)$ needed by Newton's method we use \n",
    "$$\\mathop{J_{\\nu}'}\\!\\left(z\\right)=\\mathop{J_{\n",
    "\\nu-1}}\\nolimits\\!\\left(z\\right)-\\frac{\\nu}{z}\\mathop{J_{\\nu}}\n",
    "\\nolimits\\!\\left(z\\right).$$"
   ]
  },
  {
   "cell_type": "code",
   "execution_count": null,
   "metadata": {},
   "outputs": [],
   "source": [
    "function besselj_zero_iter(ν::Integer, z::AbstractFloat)\n",
    "    T = typeof(z)\n",
    "    ɛ = eps(T)\n",
    "    for i = 1:200\n",
    "        J = besselj(ν, z)\n",
    "        if abs(J) < 1000ɛ \n",
    "            break\n",
    "        end        \n",
    "        Jprime = besselj(ν-1, z) - ν*J/z\n",
    "        z -= J/Jprime   \n",
    "        if i==200\n",
    "            println(\"200 iterations, res=\",abs(J))\n",
    "        end\n",
    "    end\n",
    "    return z\n",
    "end"
   ]
  },
  {
   "cell_type": "markdown",
   "metadata": {},
   "source": [
    "Similarly, starting from an approximation for a zero of $J_\\nu'(z)$ the following function\n",
    "improves this approximation iteratively using Newton's method.\n",
    "For the second derivative $J_\\nu''(z)$ needed by Newton's method we use \n",
    "$$J_{\\nu}''(z)=-\\frac{1}{z}J_{\\nu}'(z)+\\left(\\frac{\\nu^2}{z^2}-1\\right)J_{\\nu}(z),$$\n",
    "where $J_{\\nu}'(z)$ is given by\n",
    "$$\\mathop{J_{\\nu}'}\\!\\left(z\\right)=\\mathop{J_{\n",
    "\\nu-1}}\\nolimits\\!\\left(z\\right)-\\frac{\\nu}{z}\\mathop{J_{\\nu}}\n",
    "\\nolimits\\!\\left(z\\right).$$"
   ]
  },
  {
   "cell_type": "code",
   "execution_count": null,
   "metadata": {},
   "outputs": [],
   "source": [
    "function besseljprime_zero_iter(ν::Integer, z::AbstractFloat)    \n",
    "    T = typeof(z)\n",
    "    ɛ = eps(T)\n",
    "    for i = 1:200\n",
    "        J = besselj(ν, z)\n",
    "        J1 = besselj(ν-1, z) - ν*J/z\n",
    "        if abs(J1) < 1000ɛ \n",
    "            break\n",
    "        end       \n",
    "        J2 = -J1/z + ((ν/z)^2-1)*J\n",
    "        z -= J1/J2   \n",
    "        if i==200\n",
    "            println(\"200 iterations, res=\",abs(J1))\n",
    "        end\n",
    "    end\n",
    "    return z\n",
    "end"
   ]
  },
  {
   "cell_type": "code",
   "execution_count": null,
   "metadata": {},
   "outputs": [],
   "source": [
    "besselj_zero(ν, m, T=Float64) = besselj_zero_iter(ν, convert(T, besselj_zero_approx(ν, m)))"
   ]
  },
  {
   "cell_type": "code",
   "execution_count": null,
   "metadata": {},
   "outputs": [],
   "source": [
    "besseljprime_zero(ν::Integer, m::Integer, T=Float64) =\n",
    "    besseljprime_zero_iter(ν, convert(T, besseljprime_zero_approx(ν, m)))"
   ]
  },
  {
   "cell_type": "code",
   "execution_count": null,
   "metadata": {},
   "outputs": [],
   "source": [
    "using PyPlot"
   ]
  },
  {
   "cell_type": "code",
   "execution_count": null,
   "metadata": {},
   "outputs": [],
   "source": [
    "z = Float64[besselj_zero(ν, k, Float64) for ν=1:1000, k=1:1000]\n",
    "pcolor(z)"
   ]
  },
  {
   "cell_type": "code",
   "execution_count": null,
   "metadata": {},
   "outputs": [],
   "source": [
    "z = Float64[besseljprime_zero(ν, k, Float64) for ν=1:1000, k=1:1000]\n",
    "pcolor(z)"
   ]
  },
  {
   "cell_type": "markdown",
   "metadata": {},
   "source": [
    "## Computations using Bigfloat and Quadmath/Float128\n",
    "We calculate the first 100 zeros of the first 101 Bessel functions."
   ]
  },
  {
   "cell_type": "code",
   "execution_count": null,
   "metadata": {},
   "outputs": [],
   "source": [
    "mmax = 100;\n",
    "νmax = 100;"
   ]
  },
  {
   "cell_type": "markdown",
   "metadata": {},
   "source": [
    "First we use __BigFloat__ with precision 113 bits, exactly the precison of Float128:"
   ]
  },
  {
   "cell_type": "code",
   "execution_count": null,
   "metadata": {},
   "outputs": [],
   "source": [
    "set_bigfloat_precision(113)\n",
    "\n",
    "dummy = besselj_zero(0, 1, BigFloat) \n",
    "j_bf_time = @elapsed j_bf = BigFloat[besselj_zero(ν, m, BigFloat) for ν=0:νmax, m=1:mmax]\n",
    "j_bf"
   ]
  },
  {
   "cell_type": "markdown",
   "metadata": {},
   "source": [
    "Next the same using __Float128__:"
   ]
  },
  {
   "cell_type": "code",
   "execution_count": null,
   "metadata": {},
   "outputs": [],
   "source": [
    "using Quadmath\n",
    "dummy = besselj_zero(0, 1, Float128) \n",
    "j_f128_time = @elapsed j_f128 = Float128[besselj_zero(ν, m, Float128) for ν=0:νmax, m=1:mmax]\n",
    "j_f128"
   ]
  },
  {
   "cell_type": "markdown",
   "metadata": {},
   "source": [
    "Compare the accuracy:"
   ]
  },
  {
   "cell_type": "code",
   "execution_count": null,
   "metadata": {},
   "outputs": [],
   "source": [
    "maximum((j_f128-j_bf)./j_bf), eps(BigFloat), eps(Float128)"
   ]
  },
  {
   "cell_type": "markdown",
   "metadata": {},
   "source": [
    "Float128 is about 5 times faster than BigFloat:"
   ]
  },
  {
   "cell_type": "code",
   "execution_count": null,
   "metadata": {},
   "outputs": [],
   "source": [
    "j_bf_time/j_f128_time"
   ]
  },
  {
   "cell_type": "markdown",
   "metadata": {},
   "source": [
    "Finally the same using __Float64__:"
   ]
  },
  {
   "cell_type": "code",
   "execution_count": null,
   "metadata": {},
   "outputs": [],
   "source": [
    "dummy = besselj_zero(0, 1, Float64)\n",
    "j_f64_time = @elapsed j_f64 = Float64[besselj_zero(ν, m, Float64) for ν=0:νmax, m=1:mmax]\n",
    "j_f64"
   ]
  },
  {
   "cell_type": "code",
   "execution_count": null,
   "metadata": {},
   "outputs": [],
   "source": [
    "maximum((j_f128-j_f64)./j_f128), eps(Float64)"
   ]
  },
  {
   "cell_type": "markdown",
   "metadata": {},
   "source": [
    "Float64 is about 25 times faster than Float128:"
   ]
  },
  {
   "cell_type": "code",
   "execution_count": null,
   "metadata": {},
   "outputs": [],
   "source": [
    "j_f128_time/j_f64_time"
   ]
  },
  {
   "cell_type": "markdown",
   "metadata": {},
   "source": [
    "Now we do the same as above with the zeros of the derivatives of the Bessel functions."
   ]
  },
  {
   "cell_type": "code",
   "execution_count": null,
   "metadata": {},
   "outputs": [],
   "source": [
    "dummy = besseljprime_zero(0, 1, BigFloat) \n",
    "j1_bf_time = @elapsed j1_bf = BigFloat[besseljprime_zero(ν, m, BigFloat) for ν=0:νmax, m=1:mmax]\n",
    "j1_bf"
   ]
  },
  {
   "cell_type": "code",
   "execution_count": null,
   "metadata": {},
   "outputs": [],
   "source": [
    "dummy = besseljprime_zero(0, 1, Float128) \n",
    "j1_f128_time = @elapsed j1_f128 = Float128[besseljprime_zero(ν, m, Float128) for ν=0:νmax, m=1:mmax]\n",
    "j1_f128"
   ]
  },
  {
   "cell_type": "code",
   "execution_count": null,
   "metadata": {},
   "outputs": [],
   "source": [
    "maximum((j1_f128-j1_bf)./j1_f128)"
   ]
  },
  {
   "cell_type": "code",
   "execution_count": null,
   "metadata": {},
   "outputs": [],
   "source": [
    "j1_bf_time/j1_f128_time"
   ]
  },
  {
   "cell_type": "code",
   "execution_count": null,
   "metadata": {},
   "outputs": [],
   "source": [
    "dummy = besselj_zero(0, 1, Float64)\n",
    "j1_f64_time = @elapsed j1_f64 = Float64[besseljprime_zero(ν, m, Float64) for ν=0:νmax, m=1:mmax]\n",
    "j1_f64"
   ]
  },
  {
   "cell_type": "code",
   "execution_count": null,
   "metadata": {},
   "outputs": [],
   "source": [
    "j1_f128_time/j1_f64_time"
   ]
  },
  {
   "cell_type": "code",
   "execution_count": null,
   "metadata": {},
   "outputs": [],
   "source": [
    "maximum((j1_f128-j1_f64)./j1_f128)"
   ]
  },
  {
   "cell_type": "code",
   "execution_count": null,
   "metadata": {},
   "outputs": [],
   "source": []
  }
 ],
 "metadata": {
  "kernelspec": {
   "display_name": "Julia 0.4",
   "language": "julia",
   "name": "julia-0.4"
  },
  "language_info": {
   "file_extension": ".jl",
   "mimetype": "application/julia",
   "name": "julia",
   "version": "0.4.2"
  }
 },
 "nbformat": 4,
 "nbformat_minor": 0
}
